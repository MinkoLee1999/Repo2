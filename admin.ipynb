{
 "cells": [
  {
   "cell_type": "code",
   "execution_count": 1,
   "metadata": {},
   "outputs": [
    {
     "name": "stderr",
     "output_type": "stream",
     "text": [
      "Cloning into 'MinkoLee1999.github.io.v1'...\n"
     ]
    }
   ],
   "source": [
    "!git clone https://github.com/MinkoLee1999/MinkoLee1999.github.io.v1.git"
   ]
  }
 ],
 "metadata": {
  "interpreter": {
   "hash": "53e2f39a589a857e6a9d5580555df3d94555757e1e585f10396601754cbd6c11"
  },
  "kernelspec": {
   "display_name": "Python 3.8.13 ('Capstone')",
   "language": "python",
   "name": "python3"
  },
  "language_info": {
   "codemirror_mode": {
    "name": "ipython",
    "version": 3
   },
   "file_extension": ".py",
   "mimetype": "text/x-python",
   "name": "python",
   "nbconvert_exporter": "python",
   "pygments_lexer": "ipython3",
   "version": "3.8.13"
  },
  "orig_nbformat": 4
 },
 "nbformat": 4,
 "nbformat_minor": 2
}
